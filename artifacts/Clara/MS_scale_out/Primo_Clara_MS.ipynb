{
 "cells": [
  {
   "cell_type": "markdown",
   "id": "649678c5",
   "metadata": {},
   "source": [
    "## Primo + Clara-MS"
   ]
  },
  {
   "cell_type": "markdown",
   "id": "cf1e85fe",
   "metadata": {},
   "source": [
    "### Clara-MS Original Model"
   ]
  },
  {
   "cell_type": "code",
   "execution_count": null,
   "id": "6add6b38",
   "metadata": {},
   "outputs": [],
   "source": [
    "import pandas as pd\n",
    "import xgboost as xgb\n",
    "from sklearn.metrics import mean_absolute_error\n",
    "\n",
    "importance_type = \"gain\"  # \"gain\", “weight”, “cover”, “total_gain” or “total_cover”.\n",
    "\n",
    "features_train, tags_train, features_test, tags_test = pd.read_pickle(\"dataset.pickle\")\n",
    "features_nf, tags_nf = pd.read_pickle(\"testset.pickle\")\n",
    "\n",
    "nf_features = [\n",
    "    \"$R_{state}$\",  # \"Stateful Ratio\",\n",
    "    \"$A_{i}$\",  # \"IMEM Access\",\n",
    "    \"$A_{e}$\",  # \"EMEM Access\",\n",
    "    \"$I_{c}$\",  # \"Compute Intensity\",\n",
    "    \"$R_{ic}$\",  # \"IMEM-Compute Ratio\",\n",
    "    \"$R_{ec}$\",  # \"EMEM-Compute Ratio\",\n",
    "    \"$R_{i}$\",  # \"IMEM Ratio\",\n",
    "    \"$R_{e}$\",  # \"EMEM Ratio\",\n",
    "    \"$R_{sum}$\",  # \"MEMSum-Compute Ratio\",\n",
    "    \"$R_{res}$\",  # \"MEMRes-Compute Ratio\",\n",
    "]\n",
    "\n",
    "features_train = pd.DataFrame(features_train, columns=nf_features)\n",
    "features_test = pd.DataFrame(features_test, columns=nf_features)\n",
    "features_nf = pd.DataFrame(features_nf, columns=nf_features)\n",
    "\n",
    "xgb_r = xgb.XGBRegressor(n_estimators=20, seed=42, importance_type=importance_type)\n",
    "xgb_r.fit(features_train, tags_train)\n",
    "pred_test = xgb_r.predict(features_test)\n",
    "pred_nf = xgb_r.predict(features_nf)\n",
    "\n",
    "\n",
    "print(\"Clara-MS (GBDT) Performance: \")\n",
    "print(\"Clara Test MAE: \", mean_absolute_error(pred_test, tags_test))\n",
    "print(\"Clara NF MAE: \", mean_absolute_error(pred_nf, tags_nf), \"\\n\")\n",
    "\n",
    "tags_nf = list(tags_nf)\n",
    "\n",
    "print(\"Performance on Click NFs: \")\n",
    "print(\"MazuNAT optimal: \", tags_nf[-4], \", prediction: \", pred_nf[-4])\n",
    "print(\"DNSProxy optimal: \", tags_nf[-3], \", prediction: \", pred_nf[-3])\n",
    "print(\"UDPCount optimal: \", tags_nf[-2], \", prediction: \", pred_nf[-2])\n",
    "print(\"WebGen optimal: \", tags_nf[-1], \", prediction: \", pred_nf[-1])\n"
   ]
  },
  {
   "cell_type": "markdown",
   "id": "3a1b82ea",
   "metadata": {},
   "source": [
    "### Primo Model"
   ]
  },
  {
   "cell_type": "code",
   "execution_count": null,
   "id": "18006080",
   "metadata": {},
   "outputs": [],
   "source": [
    "from primo.model import PrimoRegressor\n",
    "\n",
    "\"\"\"For fast result reprodcution, we disable HPO and model selection. Use specific model type and configuration.\"\"\"\n",
    "\n",
    "config = {\"max_bins\": 32}\n",
    "pram = PrimoRegressor(model=\"PrAM\", model_config=config, hpo=None)\n",
    "pram.fit(features_train, tags_train)\n",
    "\n",
    "pred_test = pram.predict(features_test)\n",
    "pred_nf = pram.predict(features_nf)\n",
    "\n",
    "print(\"Primo Performance: \")\n",
    "print(\"PrAM Test MAE: \", mean_absolute_error(pred_test, tags_test))\n",
    "print(\"PrAM NF MAE: \", mean_absolute_error(pred_nf, tags_nf), \"\\n\")\n",
    "\n",
    "tags_nf = list(tags_nf)\n",
    "\n",
    "print(\"Performance on Click NFs: \")\n",
    "print(\"MazuNAT optimal: \", tags_nf[-4], \", prediction: \", pred_nf[-4])\n",
    "print(\"DNSProxy optimal: \", tags_nf[-3], \", prediction: \", pred_nf[-3])\n",
    "print(\"UDPCount optimal: \", tags_nf[-2], \", prediction: \", pred_nf[-2])\n",
    "print(\"WebGen optimal: \", tags_nf[-1], \", prediction: \", pred_nf[-1])\n"
   ]
  },
  {
   "cell_type": "markdown",
   "id": "afc00100",
   "metadata": {},
   "source": [
    "### Global Interpretation"
   ]
  },
  {
   "cell_type": "code",
   "execution_count": null,
   "id": "4276f477",
   "metadata": {},
   "outputs": [],
   "source": [
    "pram.visualize(n_features=12)"
   ]
  },
  {
   "cell_type": "markdown",
   "id": "ff9fc12c",
   "metadata": {},
   "source": [
    "### Local Interpretation"
   ]
  },
  {
   "cell_type": "code",
   "execution_count": null,
   "id": "ebbe4a02",
   "metadata": {},
   "outputs": [],
   "source": [
    "pram.local_visualize(features_nf, tags_nf, idx=2)"
   ]
  },
  {
   "cell_type": "markdown",
   "id": "1c2076fc",
   "metadata": {},
   "source": [
    "### Mono Constraint"
   ]
  },
  {
   "cell_type": "code",
   "execution_count": null,
   "id": "7edfdcbf",
   "metadata": {},
   "outputs": [],
   "source": [
    "from primo.post_optim import add_monotone_constraint\n",
    "\n",
    "mono_pram = add_monotone_constraint(pram, feature=[1, 5])"
   ]
  },
  {
   "cell_type": "code",
   "execution_count": null,
   "id": "427d7f4a",
   "metadata": {},
   "outputs": [],
   "source": [
    "pred_test = mono_pram.predict(features_test)\n",
    "pred_nf = mono_pram.predict(features_nf)\n",
    "\n",
    "print(\"Primo Performance: \")\n",
    "print(\"PrAM Test MAE: \", mean_absolute_error(pred_test, tags_test))\n",
    "print(\"PrAM NF MAE: \", mean_absolute_error(pred_nf, tags_nf), \"\\n\")\n",
    "\n",
    "tags_nf = list(tags_nf)\n",
    "\n",
    "print(\"Performance on Click NFs: \")\n",
    "print(\"MazuNAT optimal: \", tags_nf[-4], \", prediction: \", pred_nf[-4])\n",
    "print(\"DNSProxy optimal: \", tags_nf[-3], \", prediction: \", pred_nf[-3])\n",
    "print(\"UDPCount optimal: \", tags_nf[-2], \", prediction: \", pred_nf[-2])\n",
    "print(\"WebGen optimal: \", tags_nf[-1], \", prediction: \", pred_nf[-1])\n"
   ]
  },
  {
   "cell_type": "code",
   "execution_count": null,
   "id": "59fed999",
   "metadata": {},
   "outputs": [],
   "source": []
  }
 ],
 "metadata": {
  "interpreter": {
   "hash": "220ec35765b29755edcb2bebb81fcd0a7cd14de4fe69e028c30e7300de3e2819"
  },
  "kernelspec": {
   "display_name": "Python 3.8.12 64-bit ('tf2': conda)",
   "name": "python3"
  },
  "language_info": {
   "codemirror_mode": {
    "name": "ipython",
    "version": 3
   },
   "file_extension": ".py",
   "mimetype": "text/x-python",
   "name": "python",
   "nbconvert_exporter": "python",
   "pygments_lexer": "ipython3",
   "version": "3.7.11"
  }
 },
 "nbformat": 4,
 "nbformat_minor": 5
}
