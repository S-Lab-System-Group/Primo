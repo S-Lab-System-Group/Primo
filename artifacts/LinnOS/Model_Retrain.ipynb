{
 "cells": [
  {
   "cell_type": "markdown",
   "id": "0ad6fa9e-e3b4-436f-99ae-3cef5575d7e8",
   "metadata": {},
   "source": [
    "## Install Required Packages"
   ]
  },
  {
   "cell_type": "code",
   "execution_count": null,
   "id": "09b3fabb",
   "metadata": {},
   "outputs": [],
   "source": [
    "sudo apt -y install build-essential libncurses-dev bison flex libssl-dev libelf-dev"
   ]
  },
  {
   "cell_type": "code",
   "execution_count": null,
   "id": "4a47390d-282c-4935-9a0a-3ced4639eecc",
   "metadata": {
    "scrolled": true,
    "tags": []
   },
   "outputs": [],
   "source": [
    "pip install tensorflow==1.15.2\n",
    "pip install keras==2.1.3\n",
    "pip install pandas\n",
    "pip install scikit-learn\n",
    "pip install numpy\n",
    "pip install pyprimo"
   ]
  },
  {
   "cell_type": "code",
   "execution_count": null,
   "id": "ebfe605e-742d-4c1a-9cf7-213c2edf44ea",
   "metadata": {
    "tags": []
   },
   "outputs": [],
   "source": [
    "lsblk"
   ]
  },
  {
   "cell_type": "markdown",
   "id": "fde4df4b-bd45-40a0-bc5e-f46e7c437125",
   "metadata": {},
   "source": [
    "## STEP 1: Collect Trace and Train the LinnOS ML model "
   ]
  },
  {
   "cell_type": "code",
   "execution_count": null,
   "id": "a8c84995-82c7-4bc3-8ef7-c95498da943d",
   "metadata": {},
   "outputs": [],
   "source": [
    "# Several minutes to several hours.\n",
    "TraceTag='trace'\n",
    "cd LinnOSWriterReplayer\n",
    "nohup sudo ./writer /dev/sdb 'testTraces/anonymous.drive0.'$TraceTag &\n",
    "nohup sudo ./writer /dev/sdc 'testTraces/anonymous.drive1.'$TraceTag &\n",
    "id_1=$(sudo pgrep -a writer | awk 'NR==1 {print $1}')\n",
    "id_2=$(sudo pgrep -a writer | awk 'NR==2 {print $1}')\n",
    "sudo ./writer /dev/sdd 'testTraces/anonymous.drive2.'$TraceTag\n",
    "wait $id_1\n",
    "wait $id_2\n",
    "cd .."
   ]
  },
  {
   "cell_type": "code",
   "execution_count": null,
   "id": "04a6a7db-d6b0-4f26-9778-9cbb7ba7289e",
   "metadata": {},
   "outputs": [],
   "source": [
    "# 10 minutes\n",
    "cd LinnOSWriterReplayer\n",
    "sudo ./replayer_fail /dev/sdb-/dev/sdc-/dev/sdd \\\n",
    "'testTraces/traindrive0.'$TraceTag \\\n",
    "'testTraces/traindrive1.'$TraceTag \\\n",
    "'testTraces/traindrive2.'$TraceTag py/TrainTraceOutput"
   ]
  },
  {
   "cell_type": "code",
   "execution_count": null,
   "id": "77803604-646d-4ffe-847b-abfcfe25f429",
   "metadata": {},
   "outputs": [],
   "source": [
    "cd ..\n",
    "for i in 0 1 2 \n",
    "do\n",
    "   python3 LinnOSWriterReplayer/py/traceParser.py direct 3 4 \\\n",
    "   LinnOSWriterReplayer/py/TrainTraceOutput LinnOSWriterReplayer/mlData/temp1 \\\n",
    "   LinnOSWriterReplayer/mlData/\"mldrive${i}.csv\" \"$i\"\n",
    "done"
   ]
  },
  {
   "cell_type": "code",
   "execution_count": null,
   "id": "6331937b-4e0f-4734-8196-8ec17c43c0f9",
   "metadata": {
    "scrolled": true,
    "tags": []
   },
   "outputs": [],
   "source": [
    "# 10~20 minutes\n",
    "for i in 0 1 2 \n",
    "do\n",
    "   python3 LinnOSWriterReplayer/py/pred1.py \\\n",
    "   LinnOSWriterReplayer/mlData/\"mldrive${i}.csv\" > \"mldrive${i}results\".txt\n",
    "done"
   ]
  },
  {
   "cell_type": "code",
   "execution_count": null,
   "id": "5a60582a-d25c-4f9e-ab19-1a8be33cff0a",
   "metadata": {},
   "outputs": [],
   "source": [
    "cd LinnOSWriterReplayer/mlData\n",
    "mkdir -p drive0weights\n",
    "mkdir -p drive1weights\n",
    "mkdir -p drive2weights\n",
    "cp mldrive0.csv.* drive0weights\n",
    "cp mldrive1.csv.* drive1weights\n",
    "cp mldrive2.csv.* drive2weights\n",
    "cd ../.."
   ]
  },
  {
   "cell_type": "code",
   "execution_count": null,
   "id": "f3286c4d-6da6-44c6-abfb-dcaf235300c6",
   "metadata": {},
   "outputs": [],
   "source": [
    "# Replace with Trained New model\n",
    "\n",
    "python3 LinnOSWriterReplayer/mlHeaderGen/mlHeaderGen.py \\\n",
    "Trace sdb ~/LinnOS/LinnOSWriterReplayer/mlData/drive0weights ~/LinnOS/linux-5.4.8-linnos/block\n",
    "\n",
    "python3 LinnOSWriterReplayer/mlHeaderGen/mlHeaderGen.py \\\n",
    "Trace sdc ~/LinnOS/LinnOSWriterReplayer/mlData/drive1weights ~/LinnOS/linux-5.4.8-linnos/block\n",
    "\n",
    "python3 LinnOSWriterReplayer/mlHeaderGen/mlHeaderGen.py \\\n",
    "Trace sdd ~/LinnOS/LinnOSWriterReplayer/mlData/drive2weights ~/LinnOS/linux-5.4.8-linnos/block"
   ]
  },
  {
   "cell_type": "markdown",
   "id": "157fc76e-a692-4a1e-8b3b-c5eae3dbb66f",
   "metadata": {},
   "source": [
    "## STEP 2: Install Retrained LinnOS kernel"
   ]
  },
  {
   "cell_type": "markdown",
   "id": "97e89310",
   "metadata": {},
   "source": [
    "**Important**: To avoid install two kernel with same name, you need to rename the `EXTRAVERSION = -linnos` to `EXTRAVERSION = -linnosRe` in `/linux-5.4.8-linnos/Makefile`"
   ]
  },
  {
   "cell_type": "code",
   "execution_count": null,
   "id": "d491f11e-6bea-43c2-b8ad-f9ce2c5b8def",
   "metadata": {},
   "outputs": [],
   "source": [
    "# IF ERROR: make[1]: *** No rule to make target 'debian/canonical-certs.pem', needed by 'certs/x509_certificate_list'.  Stop.\n",
    "# SOLVE:  in .config  CONFIG_SYSTEM_TRUSTED_KEYS=\"debian/canonical-certs.pem\"  --> CONFIG_SYSTEM_TRUSTED_KEYS=\"\""
   ]
  },
  {
   "cell_type": "code",
   "execution_count": null,
   "id": "e4b3cea0-e049-4063-99fa-f72517f68e9c",
   "metadata": {
    "scrolled": true,
    "tags": []
   },
   "outputs": [],
   "source": [
    "sudo make -C ~/LinnOS/linux-5.4.8-linnos distclean\n",
    "make -C ~/LinnOS/linux-5.4.8-linnos olddefconfig"
   ]
  },
  {
   "cell_type": "code",
   "execution_count": null,
   "id": "06558f42-20d1-42a4-800d-84a41c76fc31",
   "metadata": {},
   "outputs": [],
   "source": [
    "# 20 minutes\n",
    "make -C ~/LinnOS/linux-5.4.8-linnos -j $(nproc) > makeLinnosLog.txt"
   ]
  },
  {
   "cell_type": "code",
   "execution_count": null,
   "id": "7b90e1ba-f6cf-4012-bab6-46ea4a458ddd",
   "metadata": {},
   "outputs": [],
   "source": [
    "sudo make -C ~/LinnOS/linux-5.4.8-linnos modules_install > modulesInstallLinnosLog.txt"
   ]
  },
  {
   "cell_type": "code",
   "execution_count": null,
   "id": "9d6406b4-d68b-4f2b-9586-1aa764797466",
   "metadata": {},
   "outputs": [],
   "source": [
    "sudo make -C ~/LinnOS/linux-5.4.8-linnos install "
   ]
  },
  {
   "cell_type": "code",
   "execution_count": null,
   "id": "44dfc3ea-1d56-46d2-9427-b3bc3aa79a70",
   "metadata": {},
   "outputs": [],
   "source": [
    "sudo update-initramfs -c -k 5.4.8"
   ]
  },
  {
   "cell_type": "code",
   "execution_count": null,
   "id": "362184b8-938e-4888-a3a9-b5e3dfc3498b",
   "metadata": {},
   "outputs": [],
   "source": [
    "sudo update-grub"
   ]
  },
  {
   "cell_type": "markdown",
   "id": "e13b5dd0",
   "metadata": {},
   "source": [
    "Please refer to `Change Kernel Version` section (bottom) of this note book to change the kernel version"
   ]
  },
  {
   "cell_type": "markdown",
   "id": "37f3dce8-1057-4f2a-b73f-54c7a44d62a1",
   "metadata": {},
   "source": [
    "## STEP 3: Evaluate LinnOS"
   ]
  },
  {
   "cell_type": "code",
   "execution_count": null,
   "id": "451932d5-26e3-4404-8ed1-18d882ad1788",
   "metadata": {},
   "outputs": [],
   "source": [
    "TraceTag='trace'"
   ]
  },
  {
   "cell_type": "code",
   "execution_count": null,
   "id": "30a7b25e-a2d6-4faa-ae8f-734db37636ec",
   "metadata": {},
   "outputs": [],
   "source": [
    "cd LinnOSWriterReplayer\n",
    "sudo ./replayer_fail /dev/sdb-/dev/sdc-/dev/sdd \\\n",
    "'testTraces/testdrive0.'$TraceTag \\\n",
    "'testTraces/testdrive1.'$TraceTag \\\n",
    "'testTraces/testdrive2.'$TraceTag py/MLOutput1"
   ]
  },
  {
   "cell_type": "code",
   "execution_count": null,
   "id": "9b73d35e-2b27-4f3a-91c5-06b3845bf2ac",
   "metadata": {},
   "outputs": [],
   "source": [
    "cd ..\n",
    "python3 LinnOSWriterReplayer/py/percentile.py 2 read \\\n",
    "LinnOSWriterReplayer/py/MLOutput1 LinnOSWriterReplayer/py/MLData1"
   ]
  },
  {
   "cell_type": "markdown",
   "id": "12d31b5d",
   "metadata": {},
   "source": [
    "## STEP 4: Obtain Primo Model"
   ]
  },
  {
   "cell_type": "code",
   "execution_count": null,
   "id": "f987f87e",
   "metadata": {},
   "outputs": [],
   "source": [
    "pip install sklearn-porter \n",
    "# No module named 'sklearn.tree.tree'\n",
    "# Version may mismatch, you can build a new conda env to convert tree into C format"
   ]
  },
  {
   "cell_type": "code",
   "execution_count": null,
   "id": "aefe657a",
   "metadata": {},
   "outputs": [],
   "source": [
    "bash run_parser.sh"
   ]
  },
  {
   "cell_type": "code",
   "execution_count": null,
   "id": "72d8cd8e",
   "metadata": {},
   "outputs": [],
   "source": [
    "python primo_model.py -d 0\n",
    "python primo_model.py -d 1\n",
    "python primo_model.py -d 2"
   ]
  },
  {
   "cell_type": "code",
   "execution_count": null,
   "id": "9dc54639",
   "metadata": {},
   "outputs": [],
   "source": [
    "# Need to switch to another env to enable sklearn-porter \n",
    "python portC.py -d 0\n",
    "python portC.py -d 1\n",
    "python portC.py -d 2"
   ]
  },
  {
   "cell_type": "markdown",
   "id": "7888b8e4",
   "metadata": {},
   "source": [
    "Now you obtain the weights of PrDT for each drive in C format (such as `./traces/primodrive0.c`). \n",
    "\n",
    "Next, you can refer to `./linux-5.4.8-primo/block/Trace/w_sdb.h` to manually replace the weight value for each drive.\n",
    "\n",
    "Note `convert_thresholds.c` is used to convert threshold (e.g.,`double thresholds_sdb[13]`) into integer format (e.g., `int ithresholds_sdb[13]`). Linux kernel not support float value."
   ]
  },
  {
   "cell_type": "markdown",
   "id": "d6d317dd-a8a0-4f0f-91bc-702bc863c8c0",
   "metadata": {
    "tags": []
   },
   "source": [
    "## STEP 5: Install ReTrained Primo kernel"
   ]
  },
  {
   "cell_type": "markdown",
   "id": "965e1871",
   "metadata": {},
   "source": [
    "**Important**: To avoid install two kernel with same name, you need to rename the `EXTRAVERSION = -primo` to `EXTRAVERSION = -primoRe` in `/linux-5.4.8-primo/Makefile`"
   ]
  },
  {
   "cell_type": "code",
   "execution_count": null,
   "id": "4a51145e",
   "metadata": {},
   "outputs": [],
   "source": [
    "sudo apt -y install build-essential libncurses-dev bison flex libssl-dev libelf-dev"
   ]
  },
  {
   "cell_type": "code",
   "execution_count": null,
   "id": "bb8974c1",
   "metadata": {},
   "outputs": [],
   "source": [
    "sudo make -C ~/LinnOS/linux-5.4.8-primo distclean\n",
    "make -C ~/LinnOS/linux-5.4.8-primo olddefconfig"
   ]
  },
  {
   "cell_type": "code",
   "execution_count": null,
   "id": "3be1a2cf",
   "metadata": {},
   "outputs": [],
   "source": [
    "# 20 minutes\n",
    "make -C ~/LinnOS/linux-5.4.8-primo -j $(nproc) > makePrimoLog.txt"
   ]
  },
  {
   "cell_type": "code",
   "execution_count": null,
   "id": "88c6033f",
   "metadata": {},
   "outputs": [],
   "source": [
    "sudo make -C ~/LinnOS/linux-5.4.8-primo modules_install > modulesInstallPrimoLog.txt"
   ]
  },
  {
   "cell_type": "code",
   "execution_count": null,
   "id": "a66851a8-fb11-45a6-b470-633794922d64",
   "metadata": {},
   "outputs": [],
   "source": [
    "sudo make -C ~/LinnOS/linux-5.4.8-primo install "
   ]
  },
  {
   "cell_type": "code",
   "execution_count": null,
   "id": "342e5a85",
   "metadata": {},
   "outputs": [],
   "source": [
    "sudo update-initramfs -c -k 5.4.8"
   ]
  },
  {
   "cell_type": "code",
   "execution_count": null,
   "id": "c9bae8fe",
   "metadata": {},
   "outputs": [],
   "source": [
    "sudo update-grub"
   ]
  },
  {
   "cell_type": "markdown",
   "id": "03356219",
   "metadata": {},
   "source": [
    "Please refer to `Change Kernel Version` section (bottom) of this note book to change the kernel version"
   ]
  },
  {
   "cell_type": "markdown",
   "id": "4d36bb31",
   "metadata": {},
   "source": [
    "## STEP 6: Evaluate Primo"
   ]
  },
  {
   "cell_type": "code",
   "execution_count": null,
   "id": "6eb63a57",
   "metadata": {},
   "outputs": [],
   "source": [
    "TraceTag='trace'\n",
    "cd LinnOSWriterReplayer\n",
    "sudo ./replayer_fail /dev/sdb-/dev/sdc-/dev/sdd \\\n",
    "'testTraces/testdrive0.'$TraceTag \\\n",
    "'testTraces/testdrive1.'$TraceTag \\\n",
    "'testTraces/testdrive2.'$TraceTag py/PrimoOutput1"
   ]
  },
  {
   "cell_type": "code",
   "execution_count": null,
   "id": "130708ef",
   "metadata": {},
   "outputs": [],
   "source": [
    "cd ..\n",
    "python3 LinnOSWriterReplayer/py/percentile.py 2 read \\\n",
    "LinnOSWriterReplayer/py/PrimoOutput1 LinnOSWriterReplayer/py/PrimoData1"
   ]
  },
  {
   "cell_type": "markdown",
   "id": "419603e3-2cd4-40f8-8a73-4374dce53467",
   "metadata": {},
   "source": [
    "## Change Kernel Version"
   ]
  },
  {
   "cell_type": "code",
   "execution_count": null,
   "id": "51d9234a-7ce0-493f-a141-a7e6ae6a6110",
   "metadata": {},
   "outputs": [],
   "source": [
    "awk -F\\' '$1==\"menuentry \" || $1==\"submenu \" {print i++ \" : \" $2}; /\\tmenuentry / {print \"\\t\" i-1\">\"j++ \" : \" $2};' /boot/grub/grub.cfg"
   ]
  },
  {
   "cell_type": "code",
   "execution_count": null,
   "id": "c71b090f-d5b3-456d-93df-f5c9ac99be44",
   "metadata": {},
   "outputs": [],
   "source": [
    "#### **Important**: Edit /etc/default/grub outside (Not within this notebook) to change the current kernel to Primo\n",
    "\n",
    "> sudo nano /etc/default/grub      \n",
    "\n",
    "  Change the First line `GRUB_DEFAULT=0` to `GRUB_DEFAULT=\"1>0\"`   (Refer to the above output, the Primo kenerl may not be \"1>0\". Typically, it display 1>0 : Ubuntu, with Linux 5.4.8-primo)\n",
    "  \n",
    "> sudo update-grub\n",
    "\n",
    "> sudo reboot"
   ]
  }
 ],
 "metadata": {
  "interpreter": {
   "hash": "31f2aee4e71d21fbe5cf8b01ff0e069b9275f58929596ceb00d14d90e3e16cd6"
  },
  "kernelspec": {
   "display_name": "Python 3 (ipykernel)",
   "language": "python",
   "name": "python3"
  },
  "language_info": {
   "codemirror_mode": {
    "name": "ipython",
    "version": 3
   },
   "file_extension": ".py",
   "mimetype": "text/x-python",
   "name": "python",
   "nbconvert_exporter": "python",
   "pygments_lexer": "ipython3",
   "version": "3.8.12"
  }
 },
 "nbformat": 4,
 "nbformat_minor": 5
}
