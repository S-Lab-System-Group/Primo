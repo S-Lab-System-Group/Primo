{
 "cells": [
  {
   "cell_type": "markdown",
   "metadata": {},
   "source": [
    "# Plot the Baseline vs ML graph"
   ]
  },
  {
   "cell_type": "code",
   "execution_count": null,
   "metadata": {},
   "outputs": [],
   "source": [
    "import numpy as np\n",
    "import pandas as pd\n",
    "\n",
    "trace = \"./LinnOSWriterReplayer/py/\"\n",
    "exp = \"1\"\n",
    "OrIOdata = pd.read_csv(f'{trace}BaselineData{exp}read_percentile.csv', sep='\\t',header=None)\n",
    "OrIOdataArray = OrIOdata.values\n",
    "\n",
    "MlIOdata = pd.read_csv(f'{trace}MLData{exp}read_percentile.csv', sep='\\t',header=None)\n",
    "MlIOdataArray = MlIOdata.values\n",
    "\n",
    "PIOdata = pd.read_csv(f'{trace}PrimoData{exp}read_percentile.csv', sep='\\t',header=None)\n",
    "PIOdataArray = PIOdata.values"
   ]
  },
  {
   "cell_type": "code",
   "execution_count": null,
   "metadata": {},
   "outputs": [],
   "source": [
    "import matplotlib.pyplot as plt\n",
    "\n",
    "plt.plot(OrIOdataArray[:,0],OrIOdataArray[:,1]*100, label=\"Baseline\")\n",
    "plt.plot(MlIOdataArray[:,0],MlIOdataArray[:,1]*100, label=\"LinnOS\")\n",
    "plt.plot(PIOdataArray[:,0],PIOdataArray[:,1]*100, label=\"Primo\")\n",
    "plt.xlabel('Latency(microsec)')\n",
    "plt.ylabel('Percentile')\n",
    "plt.xlim(0,10000)\n",
    "plt.ylim(0,102)\n",
    "plt.legend()\n",
    "plt.savefig('MlvsBaselineGraph.png')\n",
    "plt.show()"
   ]
  },
  {
   "cell_type": "markdown",
   "metadata": {},
   "source": [
    "# Performance Analysis"
   ]
  },
  {
   "cell_type": "code",
   "execution_count": null,
   "metadata": {},
   "outputs": [],
   "source": [
    "import numpy as np\n",
    "import pandas as pd\n",
    "\n",
    "trace = \"./LinnOSWriterReplayer/py/\"\n",
    "exp = \"1\"\n",
    "LinnOSdf = pd.read_csv(f'{trace}MLOutput{exp}',header=None)\n",
    "Primodf = pd.read_csv(f'{trace}PrimoOutput{exp}',header=None)\n",
    "Basedf = pd.read_csv(f'{trace}TestTraceOutput{exp}',header=None)\n",
    "\n",
    "# Only analyze READ\n",
    "Basedf = Basedf[Basedf[4]==1]\n",
    "LinnOSdf = LinnOSdf[LinnOSdf[4]==1]\n",
    "Primodf = Primodf[Primodf[4]==1]"
   ]
  },
  {
   "cell_type": "code",
   "execution_count": null,
   "metadata": {},
   "outputs": [],
   "source": [
    "result = pd.DataFrame(columns=[\"Mean\", \"Median\"])\n",
    "\n",
    "result.loc[\"Primo\"] = [\n",
    "    round(Primodf[3].mean(), 3),\n",
    "    Primodf[3].median(),\n",
    "]\n",
    "\n",
    "result.loc[\"LinnOS\"] = [\n",
    "    round(LinnOSdf[3].mean(), 3),\n",
    "    LinnOSdf[3].median(),\n",
    "]\n",
    "\n",
    "result.loc[\"Base\"] = [\n",
    "    round(Basedf[3].mean(), 3),\n",
    "    Basedf[3].median(),\n",
    "]\n",
    "\n",
    "result"
   ]
  }
 ],
 "metadata": {
  "kernelspec": {
   "display_name": "Python 3 (ipykernel)",
   "language": "python",
   "name": "python3"
  },
  "language_info": {
   "codemirror_mode": {
    "name": "ipython",
    "version": 3
   },
   "file_extension": ".py",
   "mimetype": "text/x-python",
   "name": "python",
   "nbconvert_exporter": "python",
   "pygments_lexer": "ipython3",
   "version": "3.8.12"
  }
 },
 "nbformat": 4,
 "nbformat_minor": 4
}
