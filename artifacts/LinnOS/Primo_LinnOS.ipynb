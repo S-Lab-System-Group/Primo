{
 "cells": [
  {
   "cell_type": "markdown",
   "id": "0ad6fa9e-e3b4-436f-99ae-3cef5575d7e8",
   "metadata": {},
   "source": [
    "## Primo-LinnOS Artifact"
   ]
  },
  {
   "cell_type": "markdown",
   "id": "f15a25d6-f867-4151-9637-bb6f846d07aa",
   "metadata": {},
   "source": [
    "### STEP 1: Process IO traces to obtain Baseline results (Non-ML)"
   ]
  },
  {
   "cell_type": "code",
   "execution_count": null,
   "id": "f3ce50e7-a893-4874-a78d-3a38e96d546b",
   "metadata": {},
   "outputs": [],
   "source": [
    "# 2 minutes\n",
    "TraceTag='trace'\n",
    "sudo ./LinnOSWriterReplayer/replayer_fail /dev/sdb-/dev/sdc-/dev/sdd \\\n",
    "'./LinnOSWriterReplayer/testTraces/testdrive0.'$TraceTag \\\n",
    "'./LinnOSWriterReplayer/testTraces/testdrive1.'$TraceTag \\\n",
    "'./LinnOSWriterReplayer/testTraces/testdrive2.'$TraceTag LinnOSWriterReplayer/py/TestTraceOutput1"
   ]
  },
  {
   "cell_type": "code",
   "execution_count": null,
   "id": "722c4cba-34b7-4c1d-93b8-aba3adf652a3",
   "metadata": {},
   "outputs": [],
   "source": [
    "python3 LinnOSWriterReplayer/py/percentile.py 2 read \\\n",
    "LinnOSWriterReplayer/py/TestTraceOutput1 LinnOSWriterReplayer/py/BaselineData1"
   ]
  },
  {
   "cell_type": "markdown",
   "id": "157fc76e-a692-4a1e-8b3b-c5eae3dbb66f",
   "metadata": {},
   "source": [
    "### STEP 2: Install LinnOS kernel"
   ]
  },
  {
   "cell_type": "code",
   "execution_count": null,
   "id": "e4b3cea0-e049-4063-99fa-f72517f68e9c",
   "metadata": {
    "scrolled": true,
    "tags": []
   },
   "outputs": [],
   "source": [
    "make -C ~/LinnOS/linux-5.4.8-linnos olddefconfig"
   ]
  },
  {
   "cell_type": "code",
   "execution_count": null,
   "id": "06558f42-20d1-42a4-800d-84a41c76fc31",
   "metadata": {},
   "outputs": [],
   "source": [
    "# 20 minutes\n",
    "make -C ~/LinnOS/linux-5.4.8-linnos -j $(nproc) > makeLinnosLog.txt"
   ]
  },
  {
   "cell_type": "code",
   "execution_count": null,
   "id": "7b90e1ba-f6cf-4012-bab6-46ea4a458ddd",
   "metadata": {},
   "outputs": [],
   "source": [
    "sudo make -C ~/LinnOS/linux-5.4.8-linnos modules_install > modulesInstallLinnosLog.txt"
   ]
  },
  {
   "cell_type": "code",
   "execution_count": null,
   "id": "9d6406b4-d68b-4f2b-9586-1aa764797466",
   "metadata": {},
   "outputs": [],
   "source": [
    "sudo make -C ~/LinnOS/linux-5.4.8-linnos install "
   ]
  },
  {
   "cell_type": "code",
   "execution_count": null,
   "id": "44dfc3ea-1d56-46d2-9427-b3bc3aa79a70",
   "metadata": {},
   "outputs": [],
   "source": [
    "sudo update-initramfs -c -k 5.4.8"
   ]
  },
  {
   "cell_type": "code",
   "execution_count": null,
   "id": "362184b8-938e-4888-a3a9-b5e3dfc3498b",
   "metadata": {},
   "outputs": [],
   "source": [
    "sudo update-grub"
   ]
  },
  {
   "cell_type": "code",
   "execution_count": null,
   "id": "be78eb8c-18e4-4cc3-9610-9b695fb9ab8e",
   "metadata": {},
   "outputs": [],
   "source": [
    "sudo reboot"
   ]
  },
  {
   "cell_type": "code",
   "execution_count": null,
   "id": "e86f3cdb-24e7-459c-bce3-cf98e0538990",
   "metadata": {},
   "outputs": [],
   "source": [
    "uname -mrs # Should be Linux 5.4.8-linnos x86_64"
   ]
  },
  {
   "cell_type": "markdown",
   "id": "37f3dce8-1057-4f2a-b73f-54c7a44d62a1",
   "metadata": {},
   "source": [
    "### STEP 3: Evaluate LinnOS"
   ]
  },
  {
   "cell_type": "code",
   "execution_count": null,
   "id": "451932d5-26e3-4404-8ed1-18d882ad1788",
   "metadata": {},
   "outputs": [],
   "source": [
    "TraceTag='trace'"
   ]
  },
  {
   "cell_type": "code",
   "execution_count": null,
   "id": "30a7b25e-a2d6-4faa-ae8f-734db37636ec",
   "metadata": {},
   "outputs": [],
   "source": [
    "cd LinnOSWriterReplayer\n",
    "sudo ./replayer_fail /dev/sdb-/dev/sdc-/dev/sdd \\\n",
    "'testTraces/testdrive0.'$TraceTag \\\n",
    "'testTraces/testdrive1.'$TraceTag \\\n",
    "'testTraces/testdrive2.'$TraceTag py/MLOutput1"
   ]
  },
  {
   "cell_type": "code",
   "execution_count": null,
   "id": "9b73d35e-2b27-4f3a-91c5-06b3845bf2ac",
   "metadata": {},
   "outputs": [],
   "source": [
    "cd ..\n",
    "python3 LinnOSWriterReplayer/py/percentile.py 2 read \\\n",
    "LinnOSWriterReplayer/py/MLOutput1 LinnOSWriterReplayer/py/MLData1"
   ]
  },
  {
   "cell_type": "markdown",
   "id": "d6d317dd-a8a0-4f0f-91bc-702bc863c8c0",
   "metadata": {
    "tags": []
   },
   "source": [
    "### STEP 4: Install Primo kernel"
   ]
  },
  {
   "cell_type": "code",
   "execution_count": null,
   "id": "bb8974c1",
   "metadata": {},
   "outputs": [],
   "source": [
    "sudo make -C ~/LinnOS/linux-5.4.8-primo distclean\n",
    "make -C ~/LinnOS/linux-5.4.8-primo olddefconfig"
   ]
  },
  {
   "cell_type": "code",
   "execution_count": null,
   "id": "3be1a2cf",
   "metadata": {},
   "outputs": [],
   "source": [
    "# 20 minutes\n",
    "make -C ~/LinnOS/linux-5.4.8-primo -j $(nproc) > makePrimoLog.txt"
   ]
  },
  {
   "cell_type": "code",
   "execution_count": null,
   "id": "88c6033f",
   "metadata": {},
   "outputs": [],
   "source": [
    "sudo make -C ~/LinnOS/linux-5.4.8-primo modules_install > modulesInstallPrimoLog.txt"
   ]
  },
  {
   "cell_type": "code",
   "execution_count": null,
   "id": "a66851a8-fb11-45a6-b470-633794922d64",
   "metadata": {},
   "outputs": [],
   "source": [
    "sudo make -C ~/LinnOS/linux-5.4.8-primo install "
   ]
  },
  {
   "cell_type": "code",
   "execution_count": null,
   "id": "342e5a85",
   "metadata": {},
   "outputs": [],
   "source": [
    "sudo update-initramfs -c -k 5.4.8"
   ]
  },
  {
   "cell_type": "code",
   "execution_count": null,
   "id": "c9bae8fe",
   "metadata": {},
   "outputs": [],
   "source": [
    "sudo update-grub"
   ]
  },
  {
   "cell_type": "code",
   "execution_count": null,
   "id": "86e8c2b2",
   "metadata": {},
   "outputs": [],
   "source": [
    "awk -F\\' '$1==\"menuentry \" || $1==\"submenu \" {print i++ \" : \" $2}; /\\tmenuentry / {print \"\\t\" i-1\">\"j++ \" : \" $2};' /boot/grub/grub.cfg"
   ]
  },
  {
   "cell_type": "code",
   "execution_count": null,
   "id": "a118a93c",
   "metadata": {},
   "outputs": [],
   "source": [
    "#### **Important**: Edit /etc/default/grub outside (Not within this notebook) to change the current kernel to Primo\n",
    "\n",
    "> sudo nano /etc/default/grub      \n",
    "\n",
    "  Change the First line `GRUB_DEFAULT=0` to `GRUB_DEFAULT=\"1>0\"`   (Refer to the above output, the Primo kenerl may not be \"1>0\". Typically, it display 1>0 : Ubuntu, with Linux 5.4.8-primo)\n",
    "  \n",
    "> sudo update-grub\n",
    "\n",
    "> sudo reboot"
   ]
  },
  {
   "cell_type": "code",
   "execution_count": null,
   "id": "03356219",
   "metadata": {},
   "outputs": [],
   "source": [
    "uname -mrs # Should be Linux 5.4.8-primo x86_64"
   ]
  },
  {
   "cell_type": "markdown",
   "id": "4d36bb31",
   "metadata": {},
   "source": [
    "### STEP 5: Evaluate Primo"
   ]
  },
  {
   "cell_type": "code",
   "execution_count": null,
   "id": "6eb63a57",
   "metadata": {},
   "outputs": [],
   "source": [
    "TraceTag='trace'\n",
    "cd LinnOSWriterReplayer\n",
    "sudo ./replayer_fail /dev/sdb-/dev/sdc-/dev/sdd \\\n",
    "'testTraces/testdrive0.'$TraceTag \\\n",
    "'testTraces/testdrive1.'$TraceTag \\\n",
    "'testTraces/testdrive2.'$TraceTag py/PrimoOutput1"
   ]
  },
  {
   "cell_type": "code",
   "execution_count": null,
   "id": "130708ef",
   "metadata": {},
   "outputs": [],
   "source": [
    "cd ..\n",
    "python3 LinnOSWriterReplayer/py/percentile.py 2 read \\\n",
    "LinnOSWriterReplayer/py/PrimoOutput1 LinnOSWriterReplayer/py/PrimoData1"
   ]
  }
 ],
 "metadata": {
  "interpreter": {
   "hash": "31f2aee4e71d21fbe5cf8b01ff0e069b9275f58929596ceb00d14d90e3e16cd6"
  },
  "kernelspec": {
   "display_name": "Bash",
   "language": "bash",
   "name": "bash"
  },
  "language_info": {
   "codemirror_mode": "shell",
   "file_extension": ".sh",
   "mimetype": "text/x-sh",
   "name": "bash"
  }
 },
 "nbformat": 4,
 "nbformat_minor": 5
}
